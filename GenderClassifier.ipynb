{
  "nbformat": 4,
  "nbformat_minor": 0,
  "metadata": {
    "colab": {
      "name": "Untitled3.ipynb",
      "provenance": [],
      "authorship_tag": "ABX9TyN+LJUP7IegVnxwTGEx/29T",
      "include_colab_link": true
    },
    "kernelspec": {
      "name": "python3",
      "display_name": "Python 3"
    }
  },
  "cells": [
    {
      "cell_type": "markdown",
      "metadata": {
        "id": "view-in-github",
        "colab_type": "text"
      },
      "source": [
        "<a href=\"https://colab.research.google.com/github/aniketmaini/GenderClassifierUsingSklearn/blob/master/GenderClassifier.ipynb\" target=\"_parent\"><img src=\"https://colab.research.google.com/assets/colab-badge.svg\" alt=\"Open In Colab\"/></a>"
      ]
    },
    {
      "cell_type": "code",
      "metadata": {
        "id": "QEyhuNm9csPX",
        "colab_type": "code",
        "colab": {}
      },
      "source": [
        "import numpy as np\n",
        "from sklearn.svm import SVC\n",
        "from sklearn import tree\n",
        "from sklearn.linear_model import Perceptron\n",
        "from sklearn.neighbors import KNeighborsClassifier\n",
        "from sklearn.metrics import accuracy_score"
      ],
      "execution_count": 0,
      "outputs": []
    },
    {
      "cell_type": "code",
      "metadata": {
        "id": "cL2VfzBg77r7",
        "colab_type": "code",
        "colab": {}
      },
      "source": [
        "#Dataset\n",
        "#[Height,Weight,Shoe Size]\n",
        "X=[[172,78,9],[148,52,6],[169,66,8],[184,82,10],[155,59,7],[142,48,5],[168,65,8],[181,72,9],[196,87,11]]\n",
        "Y=['male','female','male','male','female','female','female','male','male']"
      ],
      "execution_count": 0,
      "outputs": []
    },
    {
      "cell_type": "code",
      "metadata": {
        "id": "czkATozZ9e9d",
        "colab_type": "code",
        "colab": {}
      },
      "source": [
        "#Classifiers\n",
        "clf_tree = tree.DecisionTreeClassifier()\n",
        "clf_svm = SVC()\n",
        "clf_KNN = KNeighborsClassifier()\n",
        "clf_perceptron = Perceptron()\n"
      ],
      "execution_count": 0,
      "outputs": []
    },
    {
      "cell_type": "code",
      "metadata": {
        "id": "xj-O_6F__RmL",
        "colab_type": "code",
        "colab": {
          "base_uri": "https://localhost:8080/",
          "height": 84
        },
        "outputId": "f527fa50-2d20-4ceb-9ea4-33d6801fc48e"
      },
      "source": [
        "#Training models\n",
        "clf_tree.fit(X,Y)\n",
        "clf_svm.fit(X, Y)\n",
        "clf_KNN.fit(X, Y)\n",
        "clf_perceptron.fit(X, Y)"
      ],
      "execution_count": 16,
      "outputs": [
        {
          "output_type": "execute_result",
          "data": {
            "text/plain": [
              "Perceptron(alpha=0.0001, class_weight=None, early_stopping=False, eta0=1.0,\n",
              "           fit_intercept=True, max_iter=1000, n_iter_no_change=5, n_jobs=None,\n",
              "           penalty=None, random_state=0, shuffle=True, tol=0.001,\n",
              "           validation_fraction=0.1, verbose=0, warm_start=False)"
            ]
          },
          "metadata": {
            "tags": []
          },
          "execution_count": 16
        }
      ]
    },
    {
      "cell_type": "code",
      "metadata": {
        "id": "mQpvsiE8-HVc",
        "colab_type": "code",
        "colab": {
          "base_uri": "https://localhost:8080/",
          "height": 84
        },
        "outputId": "a537a5da-63cc-44b7-cc46-e1a895b0d2ce"
      },
      "source": [
        "#Testing\n",
        "pred_tree = clf_tree.predict(X)\n",
        "acc_tree = accuracy_score(Y, pred_tree) * 100\n",
        "print('Accuracy for DecisionTree: {}'.format(acc_tree))\n",
        "\n",
        "pred_svm = clf_svm.predict(X)\n",
        "acc_svm = accuracy_score(Y, pred_svm) * 100\n",
        "print('Accuracy for SVC: {}'.format(acc_svm))\n",
        "\n",
        "pred_KNN = clf_KNN.predict(X)\n",
        "acc_KNN = accuracy_score(Y, pred_KNN) * 100\n",
        "print('Accuracy for KNeighborsClassifier: {}'.format(acc_KNN))\n",
        "\n",
        "pred_perceptron = clf_perceptron.predict(X)\n",
        "acc_perceptron = accuracy_score(Y, pred_perceptron) * 100\n",
        "print('Accuracy for Perceptron: {}'.format(acc_perceptron))"
      ],
      "execution_count": 17,
      "outputs": [
        {
          "output_type": "stream",
          "text": [
            "Accuracy for DecisionTree: 100.0\n",
            "Accuracy for SVC: 55.55555555555556\n",
            "Accuracy for KNeighborsClassifier: 88.88888888888889\n",
            "Accuracy for Perceptron: 55.55555555555556\n"
          ],
          "name": "stdout"
        }
      ]
    },
    {
      "cell_type": "code",
      "metadata": {
        "id": "_rjssSYoA-zT",
        "colab_type": "code",
        "colab": {}
      },
      "source": [
        "#Predictions using all the Classifiers\n",
        "predict_tree = clf_tree.predict([[162,60,7]])\n",
        "predict_svm = clf_svm.predict([[162,60,7]])\n",
        "predict_KNN = clf_KNN.predict([[162,60,7]])\n",
        "predict_perceptron = clf_perceptron.predict([[162,60,7]])\n"
      ],
      "execution_count": 0,
      "outputs": []
    },
    {
      "cell_type": "code",
      "metadata": {
        "id": "NJ3NDGiYCUET",
        "colab_type": "code",
        "colab": {
          "base_uri": "https://localhost:8080/",
          "height": 84
        },
        "outputId": "d1c3587d-dcd2-412c-c0ab-69145cb0b2c0"
      },
      "source": [
        "#Printing the results of all the predictions\n",
        "print (predict_tree)\n",
        "print (predict_svm)\n",
        "print (predict_KNN)\n",
        "print (predict_perceptron)\n"
      ],
      "execution_count": 20,
      "outputs": [
        {
          "output_type": "stream",
          "text": [
            "['female']\n",
            "['male']\n",
            "['female']\n",
            "['male']\n"
          ],
          "name": "stdout"
        }
      ]
    },
    {
      "cell_type": "code",
      "metadata": {
        "id": "PeWs4CPjDQZx",
        "colab_type": "code",
        "colab": {
          "base_uri": "https://localhost:8080/",
          "height": 34
        },
        "outputId": "5dca165c-5f38-4dc8-9d00-80763a373026"
      },
      "source": [
        "#Best Classifier\n",
        "index = np.argmax([acc_tree, acc_svm, acc_perceptron, acc_KNN])\n",
        "classifiers = {0: 'tree', 1: 'svm', 2: 'KNN', 3: 'perceptron'}\n",
        "print('Best gender classifier is {} '.format(classifiers[index]))\n",
        "\n"
      ],
      "execution_count": 21,
      "outputs": [
        {
          "output_type": "stream",
          "text": [
            "Best gender classifier is tree \n"
          ],
          "name": "stdout"
        }
      ]
    }
  ]
}